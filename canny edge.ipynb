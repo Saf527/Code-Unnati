{
 "cells": [
  {
   "cell_type": "code",
   "execution_count": null,
   "id": "d2aed534",
   "metadata": {},
   "outputs": [],
   "source": [
    "import cv2\n",
    "img = cv2.imread('k2.jpg')\n",
    "\n",
    "#setting parameter values\n",
    "t_lower = 0 #lower threshold\n",
    "t_upper = 0 #Upper threshold\n",
    "\n",
    "#Applying the canny edge filter\n",
    "edge = cv2.Canny(img,t_lower,t_upper)\n",
    "\n",
    "cv2.imshow('original',img)\n",
    "cv2.imshow('edge',edge)\n",
    "cv2.waitKey(0)\n",
    "cv2.destroyAllwindows()"
   ]
  },
  {
   "cell_type": "code",
   "execution_count": null,
   "id": "edca3405",
   "metadata": {},
   "outputs": [],
   "source": [
    "\n",
    "    "
   ]
  },
  {
   "cell_type": "code",
   "execution_count": null,
   "id": "e1546774",
   "metadata": {},
   "outputs": [],
   "source": []
  }
 ],
 "metadata": {
  "kernelspec": {
   "display_name": "Python 3",
   "language": "python",
   "name": "python3"
  },
  "language_info": {
   "codemirror_mode": {
    "name": "ipython",
    "version": 3
   },
   "file_extension": ".py",
   "mimetype": "text/x-python",
   "name": "python",
   "nbconvert_exporter": "python",
   "pygments_lexer": "ipython3",
   "version": "3.8.8"
  }
 },
 "nbformat": 4,
 "nbformat_minor": 5
}
