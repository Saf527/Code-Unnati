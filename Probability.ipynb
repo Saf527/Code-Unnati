{
 "cells": [
  {
   "cell_type": "code",
   "execution_count": 1,
   "id": "05dbd082",
   "metadata": {},
   "outputs": [],
   "source": [
    "from sklearn import preprocessing\n",
    "\n",
    "#Generating the gaussian naive BAyes model\n",
    "\n",
    "from sklearn.naive_bayes import GaussianNB"
   ]
  },
  {
   "cell_type": "code",
   "execution_count": 2,
   "id": "9e32dc50",
   "metadata": {},
   "outputs": [],
   "source": [
    "#Assign Features and Encoding Labels\n",
    "\n",
    "weather = ['Sunny','Sunny','Overcast','Rainy','Rainy','Rainy','Overcast','Sunny','Sunny','Rainy','Sunny','Overcast','Overcast','Rainy']\n",
    "humidity = ['High','High','High','Medium','Low','Low','Low','Medium','Low','Medium','Medium','Medium','High','Medium']\n",
    "batfirst = ['No','No','Yes','Yes','Yes','No','Yes','No','Yes','Yes','Yes','Yes','Yes','No']"
   ]
  },
  {
   "cell_type": "code",
   "execution_count": 6,
   "id": "420f4eb0",
   "metadata": {},
   "outputs": [
    {
     "name": "stdout",
     "output_type": "stream",
     "text": [
      "[2 2 0 1 1 1 0 2 2 1 2 0 0 1] [0 0 0 2 1 1 1 2 1 2 2 2 0 2] [0 0 1 1 1 0 1 0 1 1 1 1 1 0]\n"
     ]
    }
   ],
   "source": [
    "#creating label encoder\n",
    "\n",
    "le = preprocessing.LabelEncoder()\n",
    "\n",
    "#converting string labels into numbers\n",
    "\n",
    "weather_encoded=le.fit_transform(weather)\n",
    "hum_encoded=le.fit_transform(humidity)\n",
    "label = le.fit_transform(batfirst)\n",
    "print(weather_encoded,hum_encoded,label)"
   ]
  },
  {
   "cell_type": "code",
   "execution_count": 7,
   "id": "4948a3b8",
   "metadata": {},
   "outputs": [],
   "source": [
    "#combining weather and humidity in a single tuple as features\n",
    "\n",
    "features = list(zip(weather_encoded,hum_encoded))"
   ]
  },
  {
   "cell_type": "code",
   "execution_count": 10,
   "id": "340b33d2",
   "metadata": {},
   "outputs": [
    {
     "data": {
      "text/plain": [
       "GaussianNB()"
      ]
     },
     "execution_count": 10,
     "metadata": {},
     "output_type": "execute_result"
    }
   ],
   "source": [
    "#create gaussian classifier\n",
    "\n",
    "model = GaussianNB()\n",
    "model.fit(features,label) "
   ]
  },
  {
   "cell_type": "code",
   "execution_count": 16,
   "id": "34a9d80f",
   "metadata": {},
   "outputs": [
    {
     "name": "stdout",
     "output_type": "stream",
     "text": [
      "Enter weather and humidity conditions :\n",
      "1 2\n"
     ]
    }
   ],
   "source": [
    "print(\"Enter weather and humidity conditions :\")\n",
    "w,h=map(int , input().split())\n",
    "\n",
    "#for weather 0=overcast 1=rainy 2=sunny for humidity 0=high 1=low  2=medium"
   ]
  },
  {
   "cell_type": "code",
   "execution_count": 18,
   "id": "9d9e813b",
   "metadata": {},
   "outputs": [
    {
     "name": "stdout",
     "output_type": "stream",
     "text": [
      "[1]\n"
     ]
    }
   ],
   "source": [
    "#predict output\n",
    "predicted = model.predict([[w,h]])\n",
    "print(predicted)\n",
    "\n",
    "#[1] means yes player should bat first [0] means that no player should not bat first"
   ]
  },
  {
   "cell_type": "code",
   "execution_count": null,
   "id": "29782ce6",
   "metadata": {},
   "outputs": [],
   "source": []
  }
 ],
 "metadata": {
  "kernelspec": {
   "display_name": "Python 3",
   "language": "python",
   "name": "python3"
  },
  "language_info": {
   "codemirror_mode": {
    "name": "ipython",
    "version": 3
   },
   "file_extension": ".py",
   "mimetype": "text/x-python",
   "name": "python",
   "nbconvert_exporter": "python",
   "pygments_lexer": "ipython3",
   "version": "3.8.8"
  }
 },
 "nbformat": 4,
 "nbformat_minor": 5
}
