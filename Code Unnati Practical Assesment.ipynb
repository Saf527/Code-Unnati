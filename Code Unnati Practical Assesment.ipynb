{
 "cells": [
  {
   "cell_type": "code",
   "execution_count": 16,
   "id": "fb7e14fa",
   "metadata": {},
   "outputs": [
    {
     "name": "stdout",
     "output_type": "stream",
     "text": [
      "[1, 2, 3, 4, 5, 6]\n",
      "Swapped List: [6, 2, 3, 4, 5, 1]\n"
     ]
    }
   ],
   "source": [
    "#Python program to swap first and last element of the list.\n",
    "\n",
    "def swaplist(s1): #swap function\n",
    "    s1[0],s1[-1]=s1[-1],s1[0]\n",
    "    return s1\n",
    "list=[1,2,3,4,5,6]\n",
    "print(list)\n",
    "print(\"Swapped List:\",swaplist(list))"
   ]
  },
  {
   "cell_type": "code",
   "execution_count": 27,
   "id": "f435668f",
   "metadata": {},
   "outputs": [
    {
     "name": "stdout",
     "output_type": "stream",
     "text": [
      "Enter temperature in Degree Celsius:10\n",
      "10degree celsius is equal to50.0degree fahrenheit.\n"
     ]
    }
   ],
   "source": [
    "#Code for converting degree celsius into degree fahrenheit \n",
    "\n",
    "celsius=int(input(\"Enter temperature in Degree Celsius:\"))\n",
    "fahrenheit=(celsius*1.80)+32\n",
    "print( str ( celsius ) + \"degree celsius is equal to\" +  str ( fahrenheit ) + \"degree fahrenheit.\")"
   ]
  },
  {
   "cell_type": "code",
   "execution_count": 29,
   "id": "02063aa9",
   "metadata": {},
   "outputs": [
    {
     "name": "stdout",
     "output_type": "stream",
     "text": [
      "[[ 84  90  96]\n",
      " [201 216 231]\n",
      " [318 342 366]]\n"
     ]
    }
   ],
   "source": [
    "import numpy as np\n",
    "\n",
    "#creating two matrices\n",
    "mat1=([1,2,3],[4,5,6],[7,8,9]) \n",
    "mat2=([10,11,12],[13,14,15],[16,17,18])\n",
    "\n",
    "#performing multiplication\n",
    "res=np.dot(mat1,mat2)\n",
    "\n",
    "#printing the result\n",
    "print(res)\n"
   ]
  },
  {
   "cell_type": "code",
   "execution_count": 30,
   "id": "ce8d7f3d",
   "metadata": {},
   "outputs": [
    {
     "name": "stdout",
     "output_type": "stream",
     "text": [
      "[[28 40 22]\n",
      " [24 26 58]\n",
      " [30 72 34]]\n"
     ]
    }
   ],
   "source": [
    "import numpy as np\n",
    "\n",
    "#creating two matrices\n",
    "a=([9,10,11],[12,13,14],[15,16,17]) \n",
    "b=([19,30,11],[12,13,44],[15,56,17])\n",
    "\n",
    "#performing Addition\n",
    "res=np.add(a,b)\n",
    "\n",
    "#printing the result\n",
    "print(res)\n"
   ]
  },
  {
   "cell_type": "code",
   "execution_count": 36,
   "id": "f916f249",
   "metadata": {},
   "outputs": [
    {
     "name": "stdout",
     "output_type": "stream",
     "text": [
      "The mean of the matrix is : 5.0\n",
      "The median of the matrix is : 5.0\n",
      "The Standard Deviation of the matrix is : 2.581988897471611\n",
      "The Varience of the matrix is : 6.666666666666667\n"
     ]
    }
   ],
   "source": [
    "import numpy as np\n",
    "\n",
    "#creating matrix\n",
    "mat1=([1,2,3],[4,5,6],[7,8,9])\n",
    "\n",
    "#method for finding mean\n",
    "res1=np.mean(mat1)\n",
    "\n",
    "res2=np.median(mat1)\n",
    "\n",
    "res3=np.std(mat1)\n",
    "\n",
    "res4=np.var(mat1)\n",
    "\n",
    "#printing the result\n",
    "print(\"The mean of the matrix is :\",res1)\n",
    "\n",
    "print(\"The median of the matrix is :\",res2)\n",
    "\n",
    "print(\"The Standard Deviation of the matrix is :\",res3)\n",
    "\n",
    "print(\"The Varience of the matrix is :\",res4)\n"
   ]
  },
  {
   "cell_type": "code",
   "execution_count": 43,
   "id": "f617f2ba",
   "metadata": {},
   "outputs": [
    {
     "data": {
      "image/png": "[encoded data removed]",
      "text/plain": [
       "<Figure size 432x288 with 1 Axes>"
      ]
     },
     "metadata": {
      "needs_background": "light"
     },
     "output_type": "display_data"
    }
   ],
   "source": [
    "import matplotlib.pyplot as plt\n",
    "#Write a python Matplotlib program to plot graph between x & y coordinates for below values:\n",
    "x = [1, 2, 3, 4, 5, 6, 7, 8]\n",
    "y = [2, 3, 1, 3, 1, 4, 2, 3]\n",
    "\n",
    "#funtion to plot graph\n",
    "plt.plot(x,y)\n",
    "#result of plotted graph is shown\n",
    "plt.show()\n",
    "\n",
    "\n"
   ]
  },
  {
   "cell_type": "code",
   "execution_count": 50,
   "id": "e3687e8d",
   "metadata": {},
   "outputs": [
    {
     "data": {
      "image/png": "[encoded data removed]",
      "text/plain": [
       "<Figure size 432x288 with 1 Axes>"
      ]
     },
     "metadata": {
      "needs_background": "light"
     },
     "output_type": "display_data"
    }
   ],
   "source": [
    "import matplotlib.pyplot as plt\n",
    " #Write a python Matplotlib program to visualize a bar plot for given values\n",
    "    \n",
    " #x-axis values\n",
    "a=[12,3,4,5]\n",
    "\n",
    "#y-axis values\n",
    "b=[16,234,25,90,32]\n",
    "\n",
    "#method to plot bar graph\n",
    "plt.bar(x,y)\n",
    "\n",
    "#method to display output\n",
    "plt.show()"
   ]
  },
  {
   "cell_type": "code",
   "execution_count": null,
   "id": "4d54bcdc",
   "metadata": {},
   "outputs": [],
   "source": []
  }
 ],
 "metadata": {
  "kernelspec": {
   "display_name": "Python 3",
   "language": "python",
   "name": "python3"
  },
  "language_info": {
   "codemirror_mode": {
    "name": "ipython",
    "version": 3
   },
   "file_extension": ".py",
   "mimetype": "text/x-python",
   "name": "python",
   "nbconvert_exporter": "python",
   "pygments_lexer": "ipython3",
   "version": "3.8.8"
  }
 },
 "nbformat": 4,
 "nbformat_minor": 5
}
