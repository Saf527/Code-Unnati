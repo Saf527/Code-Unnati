{
 "cells": [
  {
   "cell_type": "code",
   "execution_count": 5,
   "id": "5cc42852",
   "metadata": {},
   "outputs": [],
   "source": [
    "import numpy as np\n"
   ]
  },
  {
   "cell_type": "code",
   "execution_count": 6,
   "id": "4bf2204b",
   "metadata": {},
   "outputs": [
    {
     "data": {
      "text/plain": [
       "array([[1, 2, 3, 4],\n",
       "       [5, 6, 7, 8]])"
      ]
     },
     "execution_count": 6,
     "metadata": {},
     "output_type": "execute_result"
    }
   ],
   "source": [
    "arr = np.array([[1,2,3,4],[5,6,7,8]])\n",
    "arr"
   ]
  },
  {
   "cell_type": "code",
   "execution_count": 9,
   "id": "d6cb87b4",
   "metadata": {},
   "outputs": [
    {
     "name": "stdout",
     "output_type": "stream",
     "text": [
      "<memory at 0x000001D0B30C8520>\n"
     ]
    }
   ],
   "source": [
    "print(arr.data)"
   ]
  },
  {
   "cell_type": "code",
   "execution_count": 12,
   "id": "8904446f",
   "metadata": {},
   "outputs": [
    {
     "name": "stdout",
     "output_type": "stream",
     "text": [
      "2\n",
      "(2, 4)\n",
      "<class 'numpy.ndarray'>\n"
     ]
    }
   ],
   "source": [
    "print(arr.ndim)\n",
    "print(arr.shape)\n",
    "print(type(arr))"
   ]
  },
  {
   "cell_type": "markdown",
   "id": "d241627a",
   "metadata": {},
   "source": [
    "# Statiscial Funtion"
   ]
  },
  {
   "cell_type": "code",
   "execution_count": 16,
   "id": "ce03b59c",
   "metadata": {},
   "outputs": [
    {
     "name": "stdout",
     "output_type": "stream",
     "text": [
      "[[ 1  2  3  4]\n",
      " [ 5  6  7  8]\n",
      " [ 9 10 11 12]] \n",
      "\n"
     ]
    }
   ],
   "source": [
    "a = np.array([[1,2,3,4],[5,6,7,8],[9,10,11,12]])\n",
    "print(a,\"\\n\")"
   ]
  },
  {
   "cell_type": "code",
   "execution_count": 17,
   "id": "4f33137d",
   "metadata": {},
   "outputs": [
    {
     "data": {
      "text/plain": [
       "dtype('int32')"
      ]
     },
     "execution_count": 17,
     "metadata": {},
     "output_type": "execute_result"
    }
   ],
   "source": [
    "a.dtype"
   ]
  },
  {
   "cell_type": "code",
   "execution_count": 21,
   "id": "34e5243e",
   "metadata": {},
   "outputs": [
    {
     "data": {
      "text/plain": [
       "4"
      ]
     },
     "execution_count": 21,
     "metadata": {},
     "output_type": "execute_result"
    }
   ],
   "source": [
    "a.itemsize\n"
   ]
  },
  {
   "cell_type": "code",
   "execution_count": 22,
   "id": "93eddd4b",
   "metadata": {},
   "outputs": [
    {
     "data": {
      "text/plain": [
       "12"
      ]
     },
     "execution_count": 22,
     "metadata": {},
     "output_type": "execute_result"
    }
   ],
   "source": [
    "a.size"
   ]
  },
  {
   "cell_type": "code",
   "execution_count": 24,
   "id": "b5f966ce",
   "metadata": {},
   "outputs": [
    {
     "data": {
      "text/plain": [
       "(3, 4)"
      ]
     },
     "execution_count": 24,
     "metadata": {},
     "output_type": "execute_result"
    }
   ],
   "source": [
    "a.shape"
   ]
  },
  {
   "cell_type": "code",
   "execution_count": 29,
   "id": "385f2fb5",
   "metadata": {},
   "outputs": [
    {
     "name": "stdout",
     "output_type": "stream",
     "text": [
      "[[ 1.  2.  3.  4.]\n",
      " [ 5.  6.  7.  8.]\n",
      " [ 9. 10. 11. 12.]] \n",
      "\n",
      "float64\n",
      "8\n"
     ]
    }
   ],
   "source": [
    "a = np.array([[1,2,3,4],[5,6,7,8],[9,10,11,12]],dtype=np.float64)\n",
    "print(a,\"\\n\")\n",
    "print(a.dtype)\n",
    "print(a.itemsize)"
   ]
  },
  {
   "cell_type": "code",
   "execution_count": 32,
   "id": "f061512d",
   "metadata": {},
   "outputs": [
    {
     "name": "stdout",
     "output_type": "stream",
     "text": [
      "[[ 1.+0.j  2.+0.j  3.+0.j  4.+0.j]\n",
      " [ 5.+0.j  6.+0.j  7.+0.j  8.+0.j]\n",
      " [ 9.+0.j 10.+0.j 11.+0.j 12.+0.j]] \n",
      "\n",
      "complex64\n",
      "8\n"
     ]
    }
   ],
   "source": [
    "a = np.array([[1,2,3,4],[5,6,7,8],[9,10,11,12]],dtype=np.complex64)\n",
    "print(a,\"\\n\")\n",
    "print(a.dtype)\n",
    "print(a.itemsize)"
   ]
  },
  {
   "cell_type": "code",
   "execution_count": 33,
   "id": "0d628d55",
   "metadata": {},
   "outputs": [
    {
     "name": "stdout",
     "output_type": "stream",
     "text": [
      "[[ 1.+0.j  2.+0.j  3.+0.j  4.+0.j]\n",
      " [ 5.+0.j  6.+0.j  7.+0.j  8.+0.j]\n",
      " [ 9.+0.j 10.+0.j 11.+0.j 12.+0.j]] \n",
      "\n",
      "complex128\n",
      "16\n"
     ]
    }
   ],
   "source": [
    "a = np.array([[1,2,3,4],[5,6,7,8],[9,10,11,12]],dtype=np.complex128)\n",
    "print(a,\"\\n\")\n",
    "print(a.dtype)\n",
    "print(a.itemsize)"
   ]
  },
  {
   "cell_type": "code",
   "execution_count": 34,
   "id": "ecd8e10d",
   "metadata": {},
   "outputs": [
    {
     "name": "stdout",
     "output_type": "stream",
     "text": [
      "(78+0j)\n"
     ]
    }
   ],
   "source": [
    "print(np.sum(a))"
   ]
  },
  {
   "cell_type": "code",
   "execution_count": 36,
   "id": "09fbaea0",
   "metadata": {},
   "outputs": [
    {
     "name": "stdout",
     "output_type": "stream",
     "text": [
      "[15.+0.j 18.+0.j 21.+0.j 24.+0.j]\n",
      "[10.+0.j 26.+0.j 42.+0.j]\n"
     ]
    }
   ],
   "source": [
    "print(np.sum(a, axis=0))\n",
    "print(np.sum(a, axis=1))\n"
   ]
  },
  {
   "cell_type": "code",
   "execution_count": 39,
   "id": "27e258b2",
   "metadata": {},
   "outputs": [
    {
     "name": "stdout",
     "output_type": "stream",
     "text": [
      "(1+0j)\n",
      "[1.+0.j 2.+0.j 3.+0.j 4.+0.j]\n",
      "[1.+0.j 5.+0.j 9.+0.j]\n"
     ]
    }
   ],
   "source": [
    "print(np.amin(a))\n",
    "print(np.amin(a,axis=0))\n",
    "print(np.amin(a,axis=1))"
   ]
  },
  {
   "cell_type": "code",
   "execution_count": 43,
   "id": "0f8ff11c",
   "metadata": {},
   "outputs": [
    {
     "name": "stdout",
     "output_type": "stream",
     "text": [
      "12\n",
      "[ 9 10 11 12]\n",
      "[ 4  8 12]\n"
     ]
    }
   ],
   "source": [
    "a = np.array([[1,2,3,4],[5,6,7,8],[9,10,11,12]])\n",
    "print(np.amax(a))\n",
    "print(np.amax(a,axis=0))\n",
    "print(np.amax(a,axis=1))"
   ]
  },
  {
   "cell_type": "code",
   "execution_count": 49,
   "id": "8155cd82",
   "metadata": {},
   "outputs": [
    {
     "name": "stdout",
     "output_type": "stream",
     "text": [
      "6.5\n",
      "[5. 6. 7. 8.]\n",
      "[ 2.5  6.5 10.5]\n",
      "6.5\n",
      "[5. 6. 7. 8.]\n",
      "[ 2.5  6.5 10.5]\n",
      "3.452052529534663\n",
      "[3.26598632 3.26598632 3.26598632 3.26598632]\n",
      "[1.11803399 1.11803399 1.11803399]\n"
     ]
    }
   ],
   "source": [
    "print(np.mean(a))\n",
    "print(np.mean(a,axis=0))\n",
    "print(np.mean(a,axis=1))\n",
    "print(np.median(a))\n",
    "print(np.median(a,axis=0))\n",
    "print(np.median(a,axis=1))\n",
    "print(np.std(a))\n",
    "print(np.std(a,axis=0))\n",
    "print(np.std(a,axis=1))"
   ]
  },
  {
   "cell_type": "code",
   "execution_count": 51,
   "id": "9c7e086b",
   "metadata": {},
   "outputs": [
    {
     "name": "stdout",
     "output_type": "stream",
     "text": [
      "11.916666666666666\n",
      "[10.66666667 10.66666667 10.66666667 10.66666667]\n",
      "[1.25 1.25 1.25]\n"
     ]
    }
   ],
   "source": [
    "print(np.var(a))\n",
    "print(np.var(a,axis=0))\n",
    "print(np.var(a,axis=1))"
   ]
  },
  {
   "cell_type": "code",
   "execution_count": 53,
   "id": "37a4ad36",
   "metadata": {},
   "outputs": [
    {
     "name": "stdout",
     "output_type": "stream",
     "text": [
      "6.5\n"
     ]
    }
   ],
   "source": [
    "#weighted average\n",
    "print(np.average(a))"
   ]
  },
  {
   "cell_type": "code",
   "execution_count": 54,
   "id": "77d5eab2",
   "metadata": {},
   "outputs": [
    {
     "name": "stdout",
     "output_type": "stream",
     "text": [
      "[1 2 3 4 5 6]\n"
     ]
    }
   ],
   "source": [
    "c=np.array([1,2,3, 4,5,6])\n",
    "print(c)"
   ]
  },
  {
   "cell_type": "code",
   "execution_count": 55,
   "id": "0fa420fd",
   "metadata": {},
   "outputs": [
    {
     "name": "stdout",
     "output_type": "stream",
     "text": [
      "[0.25 0.56 0.36 0.45 0.12 0.1 ]\n"
     ]
    }
   ],
   "source": [
    "weight=np.array([0.25,0.56,0.36,0.45,0.12,0.10])\n",
    "print(weight)"
   ]
  },
  {
   "cell_type": "code",
   "execution_count": 56,
   "id": "db486d57",
   "metadata": {},
   "outputs": [
    {
     "name": "stdout",
     "output_type": "stream",
     "text": [
      "2.9619565217391304\n"
     ]
    }
   ],
   "source": [
    "print(np.average(c,weights=weight))"
   ]
  },
  {
   "cell_type": "code",
   "execution_count": 61,
   "id": "cbbeff71",
   "metadata": {},
   "outputs": [
    {
     "name": "stdout",
     "output_type": "stream",
     "text": [
      "5\n",
      "11\n",
      "[3 3 3]\n"
     ]
    }
   ],
   "source": [
    "#peak to peak\n",
    "print(np.ptp(c))\n",
    "print(np.ptp(a))\n",
    "print(np.ptp(a,1))"
   ]
  },
  {
   "cell_type": "code",
   "execution_count": 67,
   "id": "ad9856d4",
   "metadata": {},
   "outputs": [
    {
     "name": "stdout",
     "output_type": "stream",
     "text": [
      "[[ 1  2  3  4]\n",
      " [ 5  6  7  8]\n",
      " [ 9 10 11 12]] \n",
      "\n",
      "12\n",
      "(3, 4)\n",
      "[[ 1  2  3]\n",
      " [ 4  5  6]\n",
      " [ 7  8  9]\n",
      " [10 11 12]]\n",
      "12\n"
     ]
    }
   ],
   "source": [
    "#reshape\n",
    "a = np.array([[1,2,3,4],[5,6,7,8],[9,10,11,12]])\n",
    "print(a,\"\\n\")\n",
    "print(np.size(a))\n",
    "print(a.shape)\n",
    "print(a.reshape(4,3))\n",
    "print(np.size(a))"
   ]
  },
  {
   "cell_type": "code",
   "execution_count": 79,
   "id": "444078df",
   "metadata": {},
   "outputs": [
    {
     "name": "stdout",
     "output_type": "stream",
     "text": [
      "[[ 1  2  3  4]\n",
      " [ 5  6  7  8]\n",
      " [ 9 10 11 12]] \n",
      "\n",
      "8\n",
      "11\n",
      "3\n",
      "[5 6]\n"
     ]
    }
   ],
   "source": [
    "#slicing\n",
    "a = np.array([[1,2,3,4],[5,6,7,8],[9,10,11,12]])\n",
    "print(a,\"\\n\")\n",
    "print(a[1,3])\n",
    "print(a[2,2])\n",
    "print(a[0,2])\n",
    "print(a[1,0:2])\n"
   ]
  },
  {
   "cell_type": "code",
   "execution_count": 85,
   "id": "471960ee",
   "metadata": {},
   "outputs": [
    {
     "name": "stdout",
     "output_type": "stream",
     "text": [
      "[[ 1  2  3  4]\n",
      " [ 5  6  7  8]\n",
      " [ 9 10 11 12]] \n",
      "\n",
      "[[13 14 15 16]\n",
      " [17 18 19 20]\n",
      " [21 22 23 24]] \n",
      "\n",
      "[[ 1  2  3  4 13 14 15 16]\n",
      " [ 5  6  7  8 17 18 19 20]\n",
      " [ 9 10 11 12 21 22 23 24]] \n",
      "\n",
      "[[13 14 15 16  1  2  3  4]\n",
      " [17 18 19 20  5  6  7  8]\n",
      " [21 22 23 24  9 10 11 12]]\n"
     ]
    }
   ],
   "source": [
    "#stacking\n",
    "a = np.array([[1,2,3,4],[5,6,7,8],[9,10,11,12]])\n",
    "print(a,\"\\n\")\n",
    "b = np.array([[13,14,15,16],[17,18,19,20],[21,22,23,24]])\n",
    "print(b,\"\\n\")\n",
    "print(np.hstack((a,b)),\"\\n\")\n",
    "print(np.hstack((b,a)))"
   ]
  },
  {
   "cell_type": "code",
   "execution_count": 87,
   "id": "39112a12",
   "metadata": {},
   "outputs": [
    {
     "name": "stdout",
     "output_type": "stream",
     "text": [
      "[[ 1  2  3  4]\n",
      " [ 5  6  7  8]\n",
      " [ 9 10 11 12]\n",
      " [13 14 15 16]\n",
      " [17 18 19 20]\n",
      " [21 22 23 24]] \n",
      "\n",
      "[[13 14 15 16]\n",
      " [17 18 19 20]\n",
      " [21 22 23 24]\n",
      " [ 1  2  3  4]\n",
      " [ 5  6  7  8]\n",
      " [ 9 10 11 12]]\n"
     ]
    }
   ],
   "source": [
    "print(np.vstack((a,b)),\"\\n\")\n",
    "print(np.vstack((b,a)))"
   ]
  },
  {
   "cell_type": "code",
   "execution_count": 99,
   "id": "1e6ce925",
   "metadata": {},
   "outputs": [
    {
     "name": "stdout",
     "output_type": "stream",
     "text": [
      "88\n"
     ]
    }
   ],
   "source": [
    "#generating random numbers#\n",
    "from numpy import random\n",
    "a=random.randint(100)\n",
    "print(a)"
   ]
  },
  {
   "cell_type": "code",
   "execution_count": null,
   "id": "e548c526",
   "metadata": {},
   "outputs": [],
   "source": []
  },
  {
   "cell_type": "code",
   "execution_count": null,
   "id": "bb9ae444",
   "metadata": {},
   "outputs": [],
   "source": []
  }
 ],
 "metadata": {
  "kernelspec": {
   "display_name": "Python 3",
   "language": "python",
   "name": "python3"
  },
  "language_info": {
   "codemirror_mode": {
    "name": "ipython",
    "version": 3
   },
   "file_extension": ".py",
   "mimetype": "text/x-python",
   "name": "python",
   "nbconvert_exporter": "python",
   "pygments_lexer": "ipython3",
   "version": "3.8.8"
  }
 },
 "nbformat": 4,
 "nbformat_minor": 5
}
